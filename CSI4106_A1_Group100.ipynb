{
  "cells": [
    {
      "cell_type": "markdown",
      "metadata": {
        "id": "SPeulvp-meob"
      },
      "source": [
        "**ASSIGNMENT 1 - EMPIRICAL STUDY OF KNAPSACK PROBLEM**"
      ]
    },
    {
      "cell_type": "markdown",
      "metadata": {
        "id": "f2Eeke4Z_EkW"
      },
      "source": [
        "**1. Group Description**\n",
        "\n",
        "Group Number: 100 \\\n",
        "Member Names: Sébastien Girard and Zachary Legros \\\n",
        "Member Student Numbers:\n",
        "- Sébastien Girard: 300133000\n",
        "- Zachary Legros: 300136274"
      ]
    },
    {
      "cell_type": "code",
      "execution_count": null,
      "metadata": {},
      "outputs": [],
      "source": []
    },
    {
      "cell_type": "markdown",
      "metadata": {
        "id": "Yq6OGiMX_da0"
      },
      "source": [
        "**2. Knapsack Problem**\n",
        "\n",
        "Give a description of the problem tackled."
      ]
    },
    {
      "cell_type": "markdown",
      "metadata": {
        "id": "C8vwHE0G_iOG"
      },
      "source": [
        "**3. Dataset**\n",
        "\n",
        "Give a description of the dataset used with references.  "
      ]
    },
    {
      "cell_type": "markdown",
      "metadata": {
        "id": "OZTWy1qN2BzY"
      },
      "source": [
        "**Import important libraries**"
      ]
    },
    {
      "cell_type": "code",
      "execution_count": 1,
      "metadata": {
        "id": "GmP1buROhaOx"
      },
      "outputs": [],
      "source": [
        "import pandas as pd\n",
        "import itertools\n",
        "import numpy as np"
      ]
    },
    {
      "cell_type": "markdown",
      "metadata": {
        "id": "wNJyoeCz00Kr"
      },
      "source": [
        "**Read Dataset**\n",
        "\n",
        "As outlined in the project description, it should be possible for the correctors to execute your notebook without requiring any downloads.\n",
        "\n",
        "To facilitate access to the dataset without the need for downloads, you can upload it to a public GitHub repository and provide a link to the raw version of the dataset.\n",
        "\n",
        "The link to the raw version is as follows:\n",
        "*https://raw.githubusercontent.com/GITHUB_USERNAME/REPOSITORY_NAME/main/DATASETNAME.csv*\n",
        "\n",
        "For example:\n",
        "\n",
        "https://raw.githubusercontent.com/baharin/KnapsackProblem/main/knapsack_5_items.csv\n",
        "\n",
        "Now provide the link to YOUR dataset and read the dataset using pandas:"
      ]
    },
    {
      "cell_type": "code",
      "execution_count": 2,
      "metadata": {
        "id": "BrhpM-HwhaOy"
      },
      "outputs": [],
      "source": [
        "url = \"https://raw.githubusercontent.com/sebastiengrd/AI-Assignment1/main/knapsack_5_items.csv\"\n",
        "\n",
        "dataset = pd.read_csv(url)"
      ]
    },
    {
      "cell_type": "markdown",
      "metadata": {
        "id": "4Drc71BY2a7w"
      },
      "source": [
        "Let's see what are the columns of the dataset? :"
      ]
    },
    {
      "cell_type": "code",
      "execution_count": 3,
      "metadata": {
        "colab": {
          "base_uri": "https://localhost:8080/"
        },
        "id": "pGxZXmhNhaOz",
        "outputId": "09bb8058-957c-4aae-fe50-de83e5a3b424"
      },
      "outputs": [
        {
          "data": {
            "text/plain": [
              "Index(['Weights', 'Prices', 'Capacity', 'Best picks', 'Best price'], dtype='object')"
            ]
          },
          "execution_count": 3,
          "metadata": {},
          "output_type": "execute_result"
        }
      ],
      "source": [
        "dataset.columns"
      ]
    },
    {
      "cell_type": "markdown",
      "metadata": {
        "id": "aNZaqcCT2w-T"
      },
      "source": [
        "As we expected, we have columns for weights, costs, capacity, best picks and best price for all the instances."
      ]
    },
    {
      "cell_type": "markdown",
      "metadata": {
        "id": "jkokOHRj2kgZ"
      },
      "source": [
        "Now let's see the first 10 entries (rows):"
      ]
    },
    {
      "cell_type": "code",
      "execution_count": 4,
      "metadata": {
        "colab": {
          "base_uri": "https://localhost:8080/",
          "height": 363
        },
        "id": "0xqfPrBEhaOz",
        "outputId": "4376de03-1214-492f-ba5e-304f9f0f1129"
      },
      "outputs": [
        {
          "data": {
            "text/html": [
              "<div>\n",
              "<style scoped>\n",
              "    .dataframe tbody tr th:only-of-type {\n",
              "        vertical-align: middle;\n",
              "    }\n",
              "\n",
              "    .dataframe tbody tr th {\n",
              "        vertical-align: top;\n",
              "    }\n",
              "\n",
              "    .dataframe thead th {\n",
              "        text-align: right;\n",
              "    }\n",
              "</style>\n",
              "<table border=\"1\" class=\"dataframe\">\n",
              "  <thead>\n",
              "    <tr style=\"text-align: right;\">\n",
              "      <th></th>\n",
              "      <th>Weights</th>\n",
              "      <th>Prices</th>\n",
              "      <th>Capacity</th>\n",
              "      <th>Best picks</th>\n",
              "      <th>Best price</th>\n",
              "    </tr>\n",
              "  </thead>\n",
              "  <tbody>\n",
              "    <tr>\n",
              "      <th>0</th>\n",
              "      <td>[46 40 42 38 10]</td>\n",
              "      <td>[12 19 19 15  8]</td>\n",
              "      <td>40</td>\n",
              "      <td>[0. 1. 0. 0. 0.]</td>\n",
              "      <td>19.0</td>\n",
              "    </tr>\n",
              "    <tr>\n",
              "      <th>1</th>\n",
              "      <td>[11 31  4  6  7]</td>\n",
              "      <td>[ 2  8 18 16  3]</td>\n",
              "      <td>64</td>\n",
              "      <td>[1. 1. 1. 1. 1.]</td>\n",
              "      <td>47.0</td>\n",
              "    </tr>\n",
              "    <tr>\n",
              "      <th>2</th>\n",
              "      <td>[32 49 27 37 24]</td>\n",
              "      <td>[19 16 16  4  1]</td>\n",
              "      <td>87</td>\n",
              "      <td>[1. 0. 1. 0. 1.]</td>\n",
              "      <td>36.0</td>\n",
              "    </tr>\n",
              "    <tr>\n",
              "      <th>3</th>\n",
              "      <td>[20 35 22 23 16]</td>\n",
              "      <td>[19 17 19  9  1]</td>\n",
              "      <td>21</td>\n",
              "      <td>[1. 0. 0. 0. 0.]</td>\n",
              "      <td>19.0</td>\n",
              "    </tr>\n",
              "    <tr>\n",
              "      <th>4</th>\n",
              "      <td>[ 7 12 19 13 20]</td>\n",
              "      <td>[10 11 18 15  5]</td>\n",
              "      <td>50</td>\n",
              "      <td>[0. 1. 1. 1. 0.]</td>\n",
              "      <td>44.0</td>\n",
              "    </tr>\n",
              "    <tr>\n",
              "      <th>5</th>\n",
              "      <td>[27 10 25 25  7]</td>\n",
              "      <td>[13 19  7 16  3]</td>\n",
              "      <td>66</td>\n",
              "      <td>[1. 1. 0. 1. 0.]</td>\n",
              "      <td>48.0</td>\n",
              "    </tr>\n",
              "    <tr>\n",
              "      <th>6</th>\n",
              "      <td>[21  2 33 45 26]</td>\n",
              "      <td>[ 1 14 10  6 13]</td>\n",
              "      <td>80</td>\n",
              "      <td>[0. 1. 1. 0. 1.]</td>\n",
              "      <td>37.0</td>\n",
              "    </tr>\n",
              "    <tr>\n",
              "      <th>7</th>\n",
              "      <td>[37 27 39 14 25]</td>\n",
              "      <td>[18  7 15  4 13]</td>\n",
              "      <td>35</td>\n",
              "      <td>[0. 0. 0. 0. 1.]</td>\n",
              "      <td>13.0</td>\n",
              "    </tr>\n",
              "    <tr>\n",
              "      <th>8</th>\n",
              "      <td>[ 1 48  4 23 39]</td>\n",
              "      <td>[ 9  4 10 16 12]</td>\n",
              "      <td>51</td>\n",
              "      <td>[1. 0. 1. 1. 0.]</td>\n",
              "      <td>35.0</td>\n",
              "    </tr>\n",
              "    <tr>\n",
              "      <th>9</th>\n",
              "      <td>[ 4  3 22  9 32]</td>\n",
              "      <td>[14  6  3 17  8]</td>\n",
              "      <td>53</td>\n",
              "      <td>[1. 1. 0. 1. 1.]</td>\n",
              "      <td>45.0</td>\n",
              "    </tr>\n",
              "  </tbody>\n",
              "</table>\n",
              "</div>"
            ],
            "text/plain": [
              "            Weights            Prices  Capacity        Best picks  Best price\n",
              "0  [46 40 42 38 10]  [12 19 19 15  8]        40  [0. 1. 0. 0. 0.]        19.0\n",
              "1  [11 31  4  6  7]  [ 2  8 18 16  3]        64  [1. 1. 1. 1. 1.]        47.0\n",
              "2  [32 49 27 37 24]  [19 16 16  4  1]        87  [1. 0. 1. 0. 1.]        36.0\n",
              "3  [20 35 22 23 16]  [19 17 19  9  1]        21  [1. 0. 0. 0. 0.]        19.0\n",
              "4  [ 7 12 19 13 20]  [10 11 18 15  5]        50  [0. 1. 1. 1. 0.]        44.0\n",
              "5  [27 10 25 25  7]  [13 19  7 16  3]        66  [1. 1. 0. 1. 0.]        48.0\n",
              "6  [21  2 33 45 26]  [ 1 14 10  6 13]        80  [0. 1. 1. 0. 1.]        37.0\n",
              "7  [37 27 39 14 25]  [18  7 15  4 13]        35  [0. 0. 0. 0. 1.]        13.0\n",
              "8  [ 1 48  4 23 39]  [ 9  4 10 16 12]        51  [1. 0. 1. 1. 0.]        35.0\n",
              "9  [ 4  3 22  9 32]  [14  6  3 17  8]        53  [1. 1. 0. 1. 1.]        45.0"
            ]
          },
          "execution_count": 4,
          "metadata": {},
          "output_type": "execute_result"
        }
      ],
      "source": [
        "dataset.head(10)"
      ]
    },
    {
      "cell_type": "markdown",
      "metadata": {
        "id": "1dq9VpZh2r2A"
      },
      "source": [
        "**Preprocessing Step**\n",
        "\n",
        "Typically, the initial step in any project that involves reading and handling data is data preprocessing and cleansing.\n",
        "\n",
        "In our dataset, we expect the entries in the \"Weights,\" \"Prices,\" and \"Best Picks\" columns to be in the form of arrays of floats or integers, like this: [45, 40, 42, 38, 10]\n",
        "\n",
        "However, when you read each entry using pandas, they will be in a form of a string: \"[45 40 42 38 10]\"\n",
        "\n",
        "So we need to convert these strings into \"arrays of floats or integers.\" You can utilize the function provided below for this purpose:\n"
      ]
    },
    {
      "cell_type": "code",
      "execution_count": 5,
      "metadata": {
        "id": "BmUtgrBchaOz"
      },
      "outputs": [],
      "source": [
        "def string_to_list(string):\n",
        "\n",
        "  string_list = string.strip('[]').split()\n",
        "\n",
        "  float_list = [float(element) for element in string_list]\n",
        "\n",
        "  return float_list"
      ]
    },
    {
      "cell_type": "markdown",
      "metadata": {
        "id": "CP1nkMb27A4n"
      },
      "source": [
        "Furthermore, it's possible that certain rows in the dataset contain empty values in specific columns. We also aim to eliminate these rows as they do not provide any useful information. We use dropna() function to do so:"
      ]
    },
    {
      "cell_type": "code",
      "execution_count": 6,
      "metadata": {
        "id": "LT_iYgxhhaO0"
      },
      "outputs": [],
      "source": [
        "#Ignore the warning messages.\n",
        "\n",
        "dataset = dataset.dropna()\n",
        "\n",
        "dataset.Weights = dataset.Weights.apply(lambda x : string_to_list(x))\n",
        "dataset.Prices = dataset.Prices.apply(lambda x : string_to_list(x))\n",
        "dataset['Best picks'] = dataset['Best picks'].apply(lambda x : string_to_list(x))"
      ]
    },
    {
      "cell_type": "markdown",
      "metadata": {
        "id": "61go4NeA7gZU"
      },
      "source": [
        "Now it's time to implement the search algorithms. For each algorithm, a template is provided to you. You can modify this template if you want. But first you should try to go look at all the parameters used, as they are all important. You can also define any number of auxiliary functions you want.\n"
      ]
    },
    {
      "cell_type": "markdown",
      "metadata": {
        "id": "0ER3-7di7ufy"
      },
      "source": [
        "**4. Generate and Test**\n",
        "\n",
        "Give a description... Also, make sure that you put comments using your own words in the code to show that you understand the code that you are submitting."
      ]
    },
    {
      "cell_type": "code",
      "execution_count": 7,
      "metadata": {
        "id": "FqN5dVe7haO0"
      },
      "outputs": [],
      "source": [
        "# recursive way to solve the {0 .. 1} knapsack problem\n",
        "# this function takes the weight, the values, and the weights of the items\n",
        "# it evaluates two scenarios, one where it takes the last item, and one where it doesn't\n",
        "# then, it returns the maximum value of the two scenarios, with the two items selected\n",
        "def knapsack_solver(weight, values, weights):\n",
        "  \n",
        "  # base case. If there is no values left, or the weight is 0, then we return 0\n",
        "  if (weight == 0 or len(values) == 0):\n",
        "    return 0, []\n",
        "  \n",
        "  do_not_take_last, do_not_take_last_result = knapsack_solver(weight, values[:-1], weights[:-1])\n",
        "  take_last, take_last_result = knapsack_solver(weight - weights[-1], values[:-1], weights[:-1])\n",
        "  take_last += values[-1]\n",
        "\n",
        "  if (weight - weights[-1] < 0 or do_not_take_last > take_last):\n",
        "    return do_not_take_last, do_not_take_last_result + [0]\n",
        "\n",
        "  return take_last, take_last_result + [1]\n",
        "  \n",
        "\n",
        "def gen_and_test(data): #takes one row, and must compute the best solution for that row\n",
        "  # implement knapsack solution\n",
        "  \n",
        "\n",
        "  best_solution_price, best_solution = knapsack_solver(data['Capacity'], data['Prices'], data['Weights'])\n",
        "\n",
        "  return best_solution_price, best_solution\n"
      ]
    },
    {
      "cell_type": "code",
      "execution_count": 8,
      "metadata": {},
      "outputs": [],
      "source": [
        "solutions = []\n",
        "for _, row in dataset.iterrows():\n",
        "    target = row['Best price']\n",
        "    solution, indexes = gen_and_test(row)\n",
        "    solutions.append(1 if target == solution else 0)"
      ]
    },
    {
      "cell_type": "code",
      "execution_count": 9,
      "metadata": {
        "id": "yodeAYV3haO0"
      },
      "outputs": [
        {
          "name": "stdout",
          "output_type": "stream",
          "text": [
            "Accuracy of best prices found is 1.0\n"
          ]
        }
      ],
      "source": [
        "# Accuracy\n",
        "print('Accuracy of best prices found is', np.mean(solutions))"
      ]
    },
    {
      "cell_type": "markdown",
      "metadata": {
        "id": "sgYGIJMd-atd"
      },
      "source": [
        "**Your Analysis:**\n",
        "\n",
        "***Result***\n",
        "\n",
        "\n",
        "The accuracy is 1.0 (100%) as expected since we know (and studied why) this algorithm to be valid to solve this problem. \n",
        "\n",
        "The algorithm used and implemented is an efficient way to use recurion to solve this problem.\n",
        "\n",
        "***Accuracy of Dataset***\n",
        "\n",
        "With this experiment, we verified that the Kaggle knapsack dataset is valid and the answers provided are accurate.\n",
        "We validated this because we obtained an accuracy of 100%.\n",
        "\n",
        "***Runtime***\n",
        "\n",
        "The runtime of this algorithm to solve 1 knapsack problem is O(2^n). This is particularly bad.\n",
        "\n",
        "However, this is not an issue in our case since it is known that the number of items (n) is minimal (5) for all of our problems.\n",
        "\n",
        "Therefore, this algorithm is efficient for our use case.\n",
        "\n",
        "If we wanted a better algorithm, we could have use dynamic programming to solve this problem, which could've provided a runtime of O(nW), where n is the number of items and W is the capacity of the knapsack."
      ]
    },
    {
      "cell_type": "markdown",
      "metadata": {
        "id": "5rQYdUQx-dGi"
      },
      "source": [
        "------------------------------------------------------------------------------------------------"
      ]
    },
    {
      "cell_type": "markdown",
      "metadata": {
        "id": "z8_ipXOGhaO1"
      },
      "source": [
        "**5. Greedy Search**\n",
        "\n",
        "Give a description... Also, make sure that you put comments using your own words in the code to show that you understand the code that you are submitting."
      ]
    },
    {
      "cell_type": "code",
      "execution_count": null,
      "metadata": {
        "id": "bAfwGLDkhaO2"
      },
      "outputs": [],
      "source": [
        "def greedy(data):\n",
        "\n",
        "  return best_solution_price, best_solution\n"
      ]
    },
    {
      "cell_type": "code",
      "execution_count": null,
      "metadata": {
        "id": "QeS54aqAhwhU"
      },
      "outputs": [],
      "source": [
        "solutions_greedy = []\n",
        "for _, row in dataset.iterrows():\n",
        "    target = row['Best price']\n",
        "    solution, indexes = greedy(row)\n",
        "    solutions_greedy.append(1 if target == solution else 0)\n"
      ]
    },
    {
      "cell_type": "code",
      "execution_count": null,
      "metadata": {
        "id": "xWqCDMs-h0SX"
      },
      "outputs": [],
      "source": [
        "print(\"Greedy Accuracy is\", np.mean(solutions_greedy))"
      ]
    },
    {
      "cell_type": "markdown",
      "metadata": {
        "id": "0DKep6e5-nuz"
      },
      "source": [
        "**Your Analysis:**"
      ]
    },
    {
      "cell_type": "markdown",
      "metadata": {
        "id": "XGBWQqlK-lra"
      },
      "source": [
        "------------------------------------------------------------------------------------------------"
      ]
    },
    {
      "cell_type": "markdown",
      "metadata": {
        "id": "PtDW2ja3R93S"
      },
      "source": [
        "**6. Simulated Annealing**\n",
        "\n",
        "Give a description... Also, make sure that you put comments using your own words in the code to show that you understand the code that you are submitting.\n"
      ]
    },
    {
      "cell_type": "code",
      "execution_count": null,
      "metadata": {
        "id": "7rFhuXedSF_3"
      },
      "outputs": [],
      "source": [
        "import random\n",
        "import math\n",
        "\n",
        "\n",
        "def simulated_annealing(data, N, initial_temperature, cooling_rate):\n",
        "\n",
        "\n",
        "\n",
        "  return best_solution_price, best_solution\n"
      ]
    },
    {
      "cell_type": "code",
      "execution_count": null,
      "metadata": {
        "id": "mAWQLNsESNIZ"
      },
      "outputs": [],
      "source": [
        "solutions_sa = []\n",
        "for _, row in dataset.iterrows():\n",
        "    target = row['Best price']\n",
        "    solution, indexes = simulated_annealing(row, N = 10, initial_temperature=1, cooling_rate=0.95)\n",
        "    solutions_sa.append(1 if target == solution else 0)\n"
      ]
    },
    {
      "cell_type": "code",
      "execution_count": null,
      "metadata": {
        "id": "jUdWEABkhkih"
      },
      "outputs": [],
      "source": [
        "print(\"Simulated Annealing Accuracy is\", np.mean(solutions_sa))"
      ]
    },
    {
      "cell_type": "markdown",
      "metadata": {
        "id": "PvvpYOOr-qqr"
      },
      "source": [
        "**Your Analysis:**"
      ]
    },
    {
      "cell_type": "code",
      "execution_count": null,
      "metadata": {},
      "outputs": [],
      "source": []
    },
    {
      "cell_type": "markdown",
      "metadata": {
        "id": "n0QXt7Ys-rCc"
      },
      "source": [
        "------------------------------------------------------------------------------------------------"
      ]
    },
    {
      "cell_type": "markdown",
      "metadata": {
        "id": "RHYjBUvVhtGV"
      },
      "source": [
        "**7. Genetic Algorithm**\n",
        "\n",
        "Give a description... Also, make sure that you put comments using your own words in the code to show that you understand the code that you are submitting."
      ]
    },
    {
      "cell_type": "code",
      "execution_count": 10,
      "metadata": {
        "id": "5kGKKUN8iP30"
      },
      "outputs": [],
      "source": [
        "import random\n",
        "\n",
        "class Item:\n",
        "  def __init__(self, price, weight):\n",
        "    self.price = price\n",
        "    self.weight = weight\n",
        "\n",
        "  def __str__(self):\n",
        "    return f\"Item: price={self.price}, weight={self.weight}\"\n",
        "\n",
        "\n",
        "# This class represents one possible solution of the problem. Therfore, it has a list of items, and a list of weights\n",
        "# It is also used to calculate the fitness of this possible solution. This possible solution can be good or bad\n",
        "class Solution:\n",
        "  def __init__(self, items, weights, capacity ):\n",
        "    self.items = items # liste of Item objects\n",
        "    self.weights = weights\n",
        "    self.capacity = capacity\n",
        "\n",
        "  # Function that returns all the items that are included in the solution\n",
        "  def get_all_included_items(self):\n",
        "    included_items = []\n",
        "    for item, weight in zip(self.items, self.weights):\n",
        "      if (weight):\n",
        "        included_items.append(item)\n",
        "    return included_items\n",
        "    \n",
        "  def calculate_total_weight(self):\n",
        "    total_weight = 0\n",
        "    for item in self.get_all_included_items():\n",
        "        total_weight += item.weight\n",
        "    return total_weight\n",
        "\n",
        "  # We want a function that calculates how good the solution is. \n",
        "  # A high fitness indicates a good solution.\n",
        "  def calculate_fitness(self):\n",
        "    if(self.calculate_total_weight() > self.capacity ): # if the total weights exceeds is over the capacity, the solution is bad and we return 0\n",
        "      return 0\n",
        "\n",
        "    # We loop over each items, and if the weight is 1, we add the price to the total for this solution\n",
        "    total_value = 0\n",
        "    for item in self.get_all_included_items():\n",
        "        total_value += item.price\n",
        "\n",
        "    return total_value\n",
        "  \n",
        "\n",
        "  \n",
        "  # Function that returns a new solution with mutations\n",
        "  def mutation(self, mut_rate):\n",
        "   newWeights = []\n",
        "\n",
        "   for weight in self.weights:\n",
        "      if random.random() < mut_rate:\n",
        "        newWeights.append(1 - weight)\n",
        "      else:\n",
        "        newWeights.append(weight)\n",
        "    \n",
        "   return Solution(self.items, newWeights, self.capacity)\n",
        "\n",
        "  def __str__(self):\n",
        "    return f\"Solution: items={self.items}, weights={self.weights}\"\n",
        "  \n",
        "  \n",
        "\n",
        "def getItemsFromRow(row):\n",
        "  items = []\n",
        "  for price, weight in zip(row['Prices'], row['Weights']):\n",
        "    items.append(Item(price, weight))\n",
        "  return items\n",
        "\n",
        "\n",
        "# Function that takes two solutions, cross them according to a cross_rate, and returns two new solutions\n",
        "def crossover(parent1, parent2, cross_rate):\n",
        "\n",
        "  if random.random() > cross_rate:\n",
        "    return parent1, parent2\n",
        "  \n",
        "  child1_weights = []\n",
        "  child2_weights = []\n",
        "  for weight1, weight2 in zip(parent1.weights, parent2.weights):\n",
        "    if random.random() < 0.5:\n",
        "      child1_weights.append(weight1)\n",
        "      child2_weights.append(weight2)\n",
        "    else:\n",
        "      child1_weights.append(weight2)\n",
        "      child2_weights.append(weight1)\n",
        "\n",
        "  child1 = Solution(parent1.items, child1_weights, parent1.capacity)\n",
        "  child2 = Solution(parent2.items, child2_weights, parent2.capacity)\n",
        "  return child1, child2\n",
        "\n",
        "def generate_initial_random_population(items, population_size, capacity):\n",
        "  solutions = []\n",
        "  for _ in range(population_size):\n",
        "    weights = [random.randint(0, 1) for _ in range(len(items))]\n",
        "    solutions.append(Solution(items, weights, capacity))\n",
        "  return solutions\n",
        "  \n",
        "def tournament_selection(population, tournament_size):\n",
        "  tournament = random.sample(population, tournament_size)\n",
        "  return max(tournament, key=lambda x: x.calculate_fitness())\n",
        "\n",
        "def generate_new_population(population, population_size, mut_rate, cross_rate, tournament_size):\n",
        "  new_population = []\n",
        "  while len(new_population) < population_size:\n",
        "    # We select two solutions from the population, and we cross them\n",
        "    parent1 = tournament_selection(population, tournament_size)\n",
        "    parent2 = tournament_selection(population, tournament_size)\n",
        "    child1, child2 = crossover(parent1, parent2, cross_rate)\n",
        "    # We mutate the two children\n",
        "    child1 = child1.mutation(mut_rate)\n",
        "    child2 = child2.mutation(mut_rate)\n",
        "    # We add the two children to the new population\n",
        "    new_population.append(child1)\n",
        "    new_population.append(child2)\n",
        "\n",
        "  return new_population\n",
        "\n",
        "def genetic_algorithm(data, population_size, num_generations, mut_rate, cross_rate, tournament_size):\n",
        "  items = getItemsFromRow(data) # get a list of Items from the row\n",
        "  capacity = data['Capacity']\n",
        "\n",
        "  # We create a list of solutions, with random weights\n",
        "  population = generate_initial_random_population(items, population_size, capacity)\n",
        "\n",
        "  for generation_i in range(num_generations):\n",
        "    population = generate_new_population(population, population_size, mut_rate, cross_rate, tournament_size)\n",
        "    # We replace the old population with the new one\n",
        "\n",
        "  # We return the best solution of the population\n",
        "  best_solution = max(population, key=lambda x: x.calculate_fitness())\n",
        "  return best_solution.calculate_fitness(), best_solution.calculate_total_weight()\n",
        "\n"
      ]
    },
    {
      "cell_type": "code",
      "execution_count": null,
      "metadata": {
        "id": "5b4hBtUijZzg"
      },
      "outputs": [],
      "source": [
        "solutions_ga = []\n",
        "for _, row in dataset.iterrows():\n",
        "    target = row['Best price']\n",
        "    solution, indexes = genetic_algorithm(row, population_size = 50, num_generations = 50, mut_rate = 0.1, cross_rate = 0.7, tournament_size = 5)\n",
        "    solutions_ga.append(1 if target == solution else 0)\n",
        "    print(f\"{len(solutions_ga)} / {len(dataset)} : Genetic Algorithm Accuracy is {np.mean(solutions_ga)}\")\n",
        "\n"
      ]
    },
    {
      "cell_type": "code",
      "execution_count": 11,
      "metadata": {
        "id": "hJ3ceIHSs-W-"
      },
      "outputs": [
        {
          "name": "stdout",
          "output_type": "stream",
          "text": [
            "Genetic Algorithm Accuracy is 0.9983804028747849\n"
          ]
        }
      ],
      "source": [
        "print(\"Genetic Algorithm Accuracy is\", np.mean(solutions_ga))"
      ]
    },
    {
      "cell_type": "code",
      "execution_count": 85,
      "metadata": {},
      "outputs": [],
      "source": []
    },
    {
      "cell_type": "markdown",
      "metadata": {
        "id": "5yn8KLah-xGF"
      },
      "source": [
        "**Your Analysis:**\n",
        "\n",
        "***Implementation***\n",
        "\n",
        "<ins>Generation</ins>\n",
        "\n",
        "For each generation of the genetic algorithm, we generate a Population of Solution. \n",
        "\n",
        "The Population is a set of potential solutions of the knapsack problem.\n",
        "\n",
        "In order to generate a generation from a previous generation. Each Solution of this new population is generated according to this pseudocode (the solutions in the new generations are being generated in pairs of 2):\n",
        "1. Do a 2 trials, and select the best solutions in each trial\n",
        "2. Take the 2 best solutions of the 2 trials (1 each), and to a mutation\n",
        "3. For each solutions created from the mutation, mutate them\n",
        "4. Repeat step 1 until the new population is generated\n",
        "\n",
        "*Initial Generation of the Population*\n",
        "Initially, a Population is generated with Random Solutions. A random solution is a solution where each items has 50% chance of being included in a knapsack bag\n",
        "\n",
        "<ins>Fitness and trials</ins>\n",
        "\n",
        "The way fintess is calculated is:\n",
        "- If the weight of the selected items exceeds the capacity of the knapsack bag, the fitness is 0 (bad solution)\n",
        "- Else, the fitness is the sum of all the items in the bag\n",
        "\n",
        "This way of calculating the fitness allows us to eliminate the bad solutions (items weights exceed the capacity), while maximizing the sum of prices inside the bag\n",
        "\n",
        "\n",
        "***Accuracy***\n",
        "\n",
        "The accuracy of the genetic algorithm is very good, approximately 0.998 (99.8%). \n",
        "\n",
        "\n",
        "With this accuracym we can know that the genetic algorithm works, and that only the best selections are being generated.\n",
        "\n",
        "***Factor Affecting Accuracy***\n",
        "\n",
        "We can try to play a little bit with the parameters of our genetic algorithm to know which paramters affect mostly the algorithm.\n",
        "\n",
        "We know our initial parameters have a good result. Therefore, we can use those as a baseline."
      ]
    },
    {
      "cell_type": "code",
      "execution_count": 21,
      "metadata": {},
      "outputs": [],
      "source": [
        "import matplotlib.pyplot as plt\n",
        "\n",
        "# playing with the parameters. We will only use 50 random simulations for each parameter, because it takes a long time to run otherwise\n",
        "\n",
        "# we want to find the best population size\n",
        "def genetic_algorithm_limited(number_of_solutions, population_size, num_generations, mut_rate, cross_rate, tournament_size):\n",
        "    solutions_ga = []\n",
        "    i = 0\n",
        "    for _ in range(number_of_solutions):\n",
        "        row = dataset.iloc[np.random.randint(len(dataset))]\n",
        "        target = row['Best price']\n",
        "        solution, indexes = genetic_algorithm(row, population_size, num_generations, mut_rate, cross_rate, tournament_size)\n",
        "        solutions_ga.append(1 if target == solution else 0)\n",
        "        i += 1\n",
        "        if i == number_of_solutions:\n",
        "            break\n",
        "    return np.mean(solutions_ga)"
      ]
    },
    {
      "cell_type": "code",
      "execution_count": 22,
      "metadata": {},
      "outputs": [
        {
          "data": {
            "image/png": "[encoded data removed]",
            "text/plain": [
              "<Figure size 640x480 with 1 Axes>"
            ]
          },
          "metadata": {},
          "output_type": "display_data"
        }
      ],
      "source": [
        "\n",
        "population_sizes = [5, 6, 7, 8, 9, 10, 20, 30, 40, 50, 60]\n",
        "\n",
        "results = []\n",
        "for population_size in population_sizes:\n",
        "    result = genetic_algorithm_limited(number_of_solutions=50, population_size=population_size, num_generations=50, mut_rate=0.1, cross_rate=0.7, tournament_size=5)\n",
        "    results.append(result)\n",
        "    \n",
        "# graph the results\n",
        "plt.plot(population_sizes, results)\n",
        "plt.xlabel('Population size')\n",
        "plt.ylabel('Accuracy')\n",
        "plt.title('Population size vs Accuracy')\n",
        "plt.show()\n"
      ]
    },
    {
      "cell_type": "code",
      "execution_count": 24,
      "metadata": {},
      "outputs": [
        {
          "data": {
            "image/png": "[encoded data removed]",
            "text/plain": [
              "<Figure size 640x480 with 1 Axes>"
            ]
          },
          "metadata": {},
          "output_type": "display_data"
        }
      ],
      "source": [
        "# Do the same with number of generations\n",
        "\n",
        "generations = [1, 2, 3, 4, 5, 6, 7, 8, 9, 10, 20, 30]\n",
        "\n",
        "results = []\n",
        "for generation in generations:\n",
        "    result = genetic_algorithm_limited(number_of_solutions=50, population_size=50, num_generations=generation, mut_rate=0.1, cross_rate=0.7, tournament_size=5)\n",
        "    results.append(result)\n",
        "\n",
        "# save the results in a subplot\n",
        "plt.plot(generations, results)\n",
        "plt.xlabel('Number of generations')\n",
        "plt.ylabel('Accuracy')\n",
        "plt.title('Number of generations vs Accuracy')\n",
        "plt.show()\n",
        "\n"
      ]
    },
    {
      "cell_type": "code",
      "execution_count": 25,
      "metadata": {},
      "outputs": [
        {
          "data": {
            "image/png": "[encoded data removed]",
            "text/plain": [
              "<Figure size 640x480 with 1 Axes>"
            ]
          },
          "metadata": {},
          "output_type": "display_data"
        }
      ],
      "source": [
        "# Do the same for tournament size\n",
        "\n",
        "tournament_sizes = [1, 2, 3, 4, 5, 6, 7, 8, 9, 10]\n",
        "\n",
        "results = []\n",
        "for tournament_size in tournament_sizes:\n",
        "    result = genetic_algorithm_limited(number_of_solutions=50, population_size=50, num_generations=50, mut_rate=0.1, cross_rate=0.7, tournament_size=tournament_size)\n",
        "    results.append(result)\n",
        "\n",
        "# save the results in a subplot\n",
        "plt.plot(tournament_sizes, results)\n",
        "plt.xlabel('Tournament size')\n",
        "plt.ylabel('Accuracy')\n",
        "plt.title('Tournament size vs Accuracy')\n",
        "plt.show()"
      ]
    },
    {
      "cell_type": "code",
      "execution_count": 26,
      "metadata": {},
      "outputs": [
        {
          "data": {
            "image/png": "[encoded data removed]",
            "text/plain": [
              "<Figure size 640x480 with 1 Axes>"
            ]
          },
          "metadata": {},
          "output_type": "display_data"
        }
      ],
      "source": [
        "# Do the same for mutation rate\n",
        "\n",
        "mutation_rates = [0.01, 0.02, 0.03, 0.04, 0.05, 0.06, 0.07, 0.08, 0.09, 0.1]\n",
        "\n",
        "results = []\n",
        "for mutation_rate in mutation_rates:\n",
        "    result = genetic_algorithm_limited(number_of_solutions=50, population_size=50, num_generations=50, mut_rate=mutation_rate, cross_rate=0.7, tournament_size=5)\n",
        "    results.append(result)\n",
        "\n",
        "# save the results in a subplot\n",
        "plt.plot(mutation_rates, results)\n",
        "plt.xlabel('Mutation rate')\n",
        "plt.ylabel('Accuracy')\n",
        "plt.title('Mutation rate vs Accuracy')\n",
        "plt.show()\n"
      ]
    },
    {
      "cell_type": "code",
      "execution_count": 27,
      "metadata": {},
      "outputs": [
        {
          "data": {
            "image/png": "[encoded data removed]",
            "text/plain": [
              "<Figure size 640x480 with 1 Axes>"
            ]
          },
          "metadata": {},
          "output_type": "display_data"
        }
      ],
      "source": [
        "# Do the same for crossover rate\n",
        "\n",
        "crossover_rates = [0.1, 0.2, 0.3, 0.4, 0.5, 0.6, 0.7, 0.8, 0.9]\n",
        "\n",
        "results = []\n",
        "for crossover_rate in crossover_rates:\n",
        "    result = genetic_algorithm_limited(number_of_solutions=50, population_size=50, num_generations=50, mut_rate=0.1, cross_rate=crossover_rate, tournament_size=5)\n",
        "    results.append(result)\n",
        "\n",
        "# save the results in a subplot\n",
        "plt.plot(crossover_rates, results)\n",
        "plt.xlabel('Crossover rate')\n",
        "plt.ylabel('Accuracy')\n",
        "plt.title('Crossover rate vs Accuracy')\n",
        "plt.show()"
      ]
    },
    {
      "cell_type": "markdown",
      "metadata": {},
      "source": [
        "### Results\n",
        "\n",
        "From those experiments we gathered and graphs we can determine how the following parameters affected our results:\n",
        "\n",
        "*Population Size*\n",
        "\n",
        "The population size is an *important* variable in our genetic simulation. it can affect the accuracy to go as low as 84%. However, a large enough population size (>40 in our experiment) will garantuee a good accuracy.\n",
        "\n",
        "*Number of Generations*\n",
        "\n",
        "The number of generations is an *important* variable in our genetic simulation. If it is too low, the simulation will not have enough generation to find the optimal solution to the knapsack problem. A low number of generation (<15) can decrease the accuracy down to 96%. This means that in some scenarios, we could be stuck in a local minima, or not have enough time to find a minima at all.\n",
        "\n",
        " However, after 15 generation, the accuarcy of the solution generaly improves to 100%\n",
        "\n",
        "\n",
        "*Mutation Rate*\n",
        "\n",
        "We found that this variable is an *important parameter* in our simulation. IF the mutation rate is not high enough, there won't be enough diversity in our population of solutions to reach a global minima.\n",
        "\n",
        "\n",
        " *CrossOver Rate*\n",
        "\n",
        " We found that the crossover rate is *not an important* variable in our simulation. This could be because the population is large, and in term of diversity, the effect of crossing over two solutions is minimal compared to mutating already good solutions.\n",
        "\n"
      ]
    },
    {
      "cell_type": "markdown",
      "metadata": {
        "id": "ekb0LOgF-xUN"
      },
      "source": [
        "------------------------------------------------------------------------------------------------"
      ]
    },
    {
      "cell_type": "markdown",
      "metadata": {
        "id": "NdO_H-4t-6mg"
      },
      "source": [
        "**8. Comparative Study**\n",
        "\n",
        "description  +  tables/figures"
      ]
    },
    {
      "cell_type": "markdown",
      "metadata": {
        "id": "4Ypp7TpkAIUe"
      },
      "source": [
        "--------------------------------------------------------------------------\n"
      ]
    },
    {
      "cell_type": "markdown",
      "metadata": {
        "id": "8Ikmq-si_23Y"
      },
      "source": [
        "**9. Conclusion**\n",
        "\n",
        "Comment on the empirical study, its results, and give ideas for future work."
      ]
    },
    {
      "cell_type": "markdown",
      "metadata": {
        "id": "41s8gvCNABDy"
      },
      "source": [
        "--------------------------------------------------------------------------\n"
      ]
    },
    {
      "cell_type": "markdown",
      "metadata": {
        "id": "PtbOgI1q_9a0"
      },
      "source": [
        "**10 References**\n",
        "\n",
        "Make sure you provide references to ALL sources used (articles, code, algorithms)."
      ]
    },
    {
      "cell_type": "markdown",
      "metadata": {
        "id": "zF9cuDJqF75q"
      },
      "source": [
        "**Hint:** To share a link to your colab notebook, click on \"share\" on the top right. Then, under *General access* , change *Restricted* to \"Anyone with the link\"."
      ]
    }
  ],
  "metadata": {
    "colab": {
      "provenance": []
    },
    "kernelspec": {
      "display_name": "Python 3",
      "language": "python",
      "name": "python3"
    },
    "language_info": {
      "codemirror_mode": {
        "name": "ipython",
        "version": 3
      },
      "file_extension": ".py",
      "mimetype": "text/x-python",
      "name": "python",
      "nbconvert_exporter": "python",
      "pygments_lexer": "ipython3",
      "version": "3.11.5"
    },
    "orig_nbformat": 4
  },
  "nbformat": 4,
  "nbformat_minor": 0
}
