{
  "cells": [
    {
      "cell_type": "markdown",
      "metadata": {},
      "source": [
        "**ASSIGNMENT 1 - EMPIRICAL STUDY OF KNAPSACK PROBLEM**"
      ]
    },
    {
      "cell_type": "markdown",
      "metadata": {},
      "source": [
        "**1. Group Description**\n",
        "\n",
        "Group Number: 100 \\\n",
        "Member Names: Sébastien Girard and Zachary Legros \\\n",
        "Member Student Numbers:\n",
        "- Sébastien Girard: 300133000\n",
        "- Zachary Legros: 300136274"
      ]
    },
    {
      "cell_type": "markdown",
      "metadata": {},
      "source": [
        "**2. Knapsack Problem**\n",
        "\n",
        "Give a description of the problem tackled."
      ]
    },
    {
      "cell_type": "markdown",
      "metadata": {},
      "source": [
        "**3. Dataset**\n",
        "\n",
        "Give a description of the dataset used with references.  "
      ]
    },
    {
      "cell_type": "markdown",
      "metadata": {},
      "source": [
        "**Import important libraries**"
      ]
    },
    {
      "cell_type": "code",
      "execution_count": 83,
      "metadata": {
        "id": "GmP1buROhaOx"
      },
      "outputs": [],
      "source": [
        "import pandas as pd\n",
        "import itertools\n",
        "import numpy as np"
      ]
    },
    {
      "cell_type": "markdown",
      "metadata": {
        "id": "wNJyoeCz00Kr"
      },
      "source": [
        "**Read Dataset**\n",
        "\n",
        "As outlined in the project description, it should be possible for the correctors to execute your notebook without requiring any downloads.\n",
        "\n",
        "To facilitate access to the dataset without the need for downloads, you can upload it to a public GitHub repository and provide a link to the raw version of the dataset.\n",
        "\n",
        "The link to the raw version is as follows:\n",
        "*https://raw.githubusercontent.com/GITHUB_USERNAME/REPOSITORY_NAME/main/DATASETNAME.csv*\n",
        "\n",
        "For example:\n",
        "\n",
        "https://raw.githubusercontent.com/baharin/KnapsackProblem/main/knapsack_5_items.csv\n",
        "\n",
        "Now provide the link to YOUR dataset and read the dataset using pandas:"
      ]
    },
    {
      "cell_type": "code",
      "execution_count": 84,
      "metadata": {
        "id": "BrhpM-HwhaOy"
      },
      "outputs": [],
      "source": [
        "url = \"https://raw.githubusercontent.com/sebastiengrd/AI-Assignment1/main/knapsack_5_items.csv\"\n",
        "\n",
        "dataset = pd.read_csv(url)"
      ]
    },
    {
      "cell_type": "markdown",
      "metadata": {
        "id": "4Drc71BY2a7w"
      },
      "source": [
        "Let's see what are the columns of the dataset? :"
      ]
    },
    {
      "cell_type": "code",
      "execution_count": 85,
      "metadata": {
        "colab": {
          "base_uri": "https://localhost:8080/"
        },
        "id": "pGxZXmhNhaOz",
        "outputId": "09bb8058-957c-4aae-fe50-de83e5a3b424"
      },
      "outputs": [
        {
          "data": {
            "text/plain": [
              "Index(['Weights', 'Prices', 'Capacity', 'Best picks', 'Best price'], dtype='object')"
            ]
          },
          "execution_count": 85,
          "metadata": {},
          "output_type": "execute_result"
        }
      ],
      "source": [
        "dataset.columns"
      ]
    },
    {
      "cell_type": "markdown",
      "metadata": {
        "id": "aNZaqcCT2w-T"
      },
      "source": [
        "As we expected, we have columns for weights, costs, capacity, best picks and best price for all the instances."
      ]
    },
    {
      "cell_type": "markdown",
      "metadata": {
        "id": "jkokOHRj2kgZ"
      },
      "source": [
        "Now let's see the first 10 entries (rows):"
      ]
    },
    {
      "cell_type": "code",
      "execution_count": 86,
      "metadata": {
        "colab": {
          "base_uri": "https://localhost:8080/",
          "height": 363
        },
        "id": "0xqfPrBEhaOz",
        "outputId": "4376de03-1214-492f-ba5e-304f9f0f1129"
      },
      "outputs": [
        {
          "data": {
            "text/html": [
              "<div>\n",
              "<style scoped>\n",
              "    .dataframe tbody tr th:only-of-type {\n",
              "        vertical-align: middle;\n",
              "    }\n",
              "\n",
              "    .dataframe tbody tr th {\n",
              "        vertical-align: top;\n",
              "    }\n",
              "\n",
              "    .dataframe thead th {\n",
              "        text-align: right;\n",
              "    }\n",
              "</style>\n",
              "<table border=\"1\" class=\"dataframe\">\n",
              "  <thead>\n",
              "    <tr style=\"text-align: right;\">\n",
              "      <th></th>\n",
              "      <th>Weights</th>\n",
              "      <th>Prices</th>\n",
              "      <th>Capacity</th>\n",
              "      <th>Best picks</th>\n",
              "      <th>Best price</th>\n",
              "    </tr>\n",
              "  </thead>\n",
              "  <tbody>\n",
              "    <tr>\n",
              "      <th>0</th>\n",
              "      <td>[46 40 42 38 10]</td>\n",
              "      <td>[12 19 19 15  8]</td>\n",
              "      <td>40</td>\n",
              "      <td>[0. 1. 0. 0. 0.]</td>\n",
              "      <td>19.0</td>\n",
              "    </tr>\n",
              "    <tr>\n",
              "      <th>1</th>\n",
              "      <td>[11 31  4  6  7]</td>\n",
              "      <td>[ 2  8 18 16  3]</td>\n",
              "      <td>64</td>\n",
              "      <td>[1. 1. 1. 1. 1.]</td>\n",
              "      <td>47.0</td>\n",
              "    </tr>\n",
              "    <tr>\n",
              "      <th>2</th>\n",
              "      <td>[32 49 27 37 24]</td>\n",
              "      <td>[19 16 16  4  1]</td>\n",
              "      <td>87</td>\n",
              "      <td>[1. 0. 1. 0. 1.]</td>\n",
              "      <td>36.0</td>\n",
              "    </tr>\n",
              "    <tr>\n",
              "      <th>3</th>\n",
              "      <td>[20 35 22 23 16]</td>\n",
              "      <td>[19 17 19  9  1]</td>\n",
              "      <td>21</td>\n",
              "      <td>[1. 0. 0. 0. 0.]</td>\n",
              "      <td>19.0</td>\n",
              "    </tr>\n",
              "    <tr>\n",
              "      <th>4</th>\n",
              "      <td>[ 7 12 19 13 20]</td>\n",
              "      <td>[10 11 18 15  5]</td>\n",
              "      <td>50</td>\n",
              "      <td>[0. 1. 1. 1. 0.]</td>\n",
              "      <td>44.0</td>\n",
              "    </tr>\n",
              "    <tr>\n",
              "      <th>5</th>\n",
              "      <td>[27 10 25 25  7]</td>\n",
              "      <td>[13 19  7 16  3]</td>\n",
              "      <td>66</td>\n",
              "      <td>[1. 1. 0. 1. 0.]</td>\n",
              "      <td>48.0</td>\n",
              "    </tr>\n",
              "    <tr>\n",
              "      <th>6</th>\n",
              "      <td>[21  2 33 45 26]</td>\n",
              "      <td>[ 1 14 10  6 13]</td>\n",
              "      <td>80</td>\n",
              "      <td>[0. 1. 1. 0. 1.]</td>\n",
              "      <td>37.0</td>\n",
              "    </tr>\n",
              "    <tr>\n",
              "      <th>7</th>\n",
              "      <td>[37 27 39 14 25]</td>\n",
              "      <td>[18  7 15  4 13]</td>\n",
              "      <td>35</td>\n",
              "      <td>[0. 0. 0. 0. 1.]</td>\n",
              "      <td>13.0</td>\n",
              "    </tr>\n",
              "    <tr>\n",
              "      <th>8</th>\n",
              "      <td>[ 1 48  4 23 39]</td>\n",
              "      <td>[ 9  4 10 16 12]</td>\n",
              "      <td>51</td>\n",
              "      <td>[1. 0. 1. 1. 0.]</td>\n",
              "      <td>35.0</td>\n",
              "    </tr>\n",
              "    <tr>\n",
              "      <th>9</th>\n",
              "      <td>[ 4  3 22  9 32]</td>\n",
              "      <td>[14  6  3 17  8]</td>\n",
              "      <td>53</td>\n",
              "      <td>[1. 1. 0. 1. 1.]</td>\n",
              "      <td>45.0</td>\n",
              "    </tr>\n",
              "  </tbody>\n",
              "</table>\n",
              "</div>"
            ],
            "text/plain": [
              "            Weights            Prices  Capacity        Best picks  Best price\n",
              "0  [46 40 42 38 10]  [12 19 19 15  8]        40  [0. 1. 0. 0. 0.]        19.0\n",
              "1  [11 31  4  6  7]  [ 2  8 18 16  3]        64  [1. 1. 1. 1. 1.]        47.0\n",
              "2  [32 49 27 37 24]  [19 16 16  4  1]        87  [1. 0. 1. 0. 1.]        36.0\n",
              "3  [20 35 22 23 16]  [19 17 19  9  1]        21  [1. 0. 0. 0. 0.]        19.0\n",
              "4  [ 7 12 19 13 20]  [10 11 18 15  5]        50  [0. 1. 1. 1. 0.]        44.0\n",
              "5  [27 10 25 25  7]  [13 19  7 16  3]        66  [1. 1. 0. 1. 0.]        48.0\n",
              "6  [21  2 33 45 26]  [ 1 14 10  6 13]        80  [0. 1. 1. 0. 1.]        37.0\n",
              "7  [37 27 39 14 25]  [18  7 15  4 13]        35  [0. 0. 0. 0. 1.]        13.0\n",
              "8  [ 1 48  4 23 39]  [ 9  4 10 16 12]        51  [1. 0. 1. 1. 0.]        35.0\n",
              "9  [ 4  3 22  9 32]  [14  6  3 17  8]        53  [1. 1. 0. 1. 1.]        45.0"
            ]
          },
          "execution_count": 86,
          "metadata": {},
          "output_type": "execute_result"
        }
      ],
      "source": [
        "dataset.head(10)"
      ]
    },
    {
      "cell_type": "markdown",
      "metadata": {
        "id": "1dq9VpZh2r2A"
      },
      "source": [
        "**Preprocessing Step**\n",
        "\n",
        "Typically, the initial step in any project that involves reading and handling data is data preprocessing and cleansing.\n",
        "\n",
        "In our dataset, we expect the entries in the \"Weights,\" \"Prices,\" and \"Best Picks\" columns to be in the form of arrays of floats or integers, like this: [45, 40, 42, 38, 10]\n",
        "\n",
        "However, when you read each entry using pandas, they will be in a form of a string: \"[45 40 42 38 10]\"\n",
        "\n",
        "So we need to convert these strings into \"arrays of floats or integers.\" You can utilize the function provided below for this purpose:\n"
      ]
    },
    {
      "cell_type": "code",
      "execution_count": 87,
      "metadata": {
        "id": "BmUtgrBchaOz"
      },
      "outputs": [],
      "source": [
        "def string_to_list(string):\n",
        "\n",
        "  string_list = string.strip('[]').split()\n",
        "\n",
        "  float_list = [float(element) for element in string_list]\n",
        "\n",
        "  return float_list"
      ]
    },
    {
      "cell_type": "markdown",
      "metadata": {
        "id": "CP1nkMb27A4n"
      },
      "source": [
        "Furthermore, it's possible that certain rows in the dataset contain empty values in specific columns. We also aim to eliminate these rows as they do not provide any useful information. We use dropna() function to do so:"
      ]
    },
    {
      "cell_type": "code",
      "execution_count": 88,
      "metadata": {
        "id": "LT_iYgxhhaO0"
      },
      "outputs": [],
      "source": [
        "#Ignore the warning messages.\n",
        "\n",
        "dataset = dataset.dropna()\n",
        "\n",
        "dataset.Weights = dataset.Weights.apply(lambda x : string_to_list(x))\n",
        "dataset.Prices = dataset.Prices.apply(lambda x : string_to_list(x))\n",
        "dataset['Best picks'] = dataset['Best picks'].apply(lambda x : string_to_list(x))"
      ]
    },
    {
      "cell_type": "markdown",
      "metadata": {
        "id": "61go4NeA7gZU"
      },
      "source": [
        "Now it's time to implement the search algorithms. For each algorithm, a template is provided to you. You can modify this template if you want. But first you should try to go look at all the parameters used, as they are all important. You can also define any number of auxiliary functions you want.\n"
      ]
    },
    {
      "cell_type": "markdown",
      "metadata": {
        "id": "0ER3-7di7ufy"
      },
      "source": [
        "**4. Generate and Test**\n",
        "\n",
        "Give a description... Also, make sure that you put comments using your own words in the code to show that you understand the code that you are submitting."
      ]
    },
    {
      "cell_type": "code",
      "execution_count": 89,
      "metadata": {},
      "outputs": [
        {
          "name": "stdout",
          "output_type": "stream",
          "text": [
            "<class 'list'>\n"
          ]
        }
      ],
      "source": [
        "solutions = []\n",
        "# for the first 5 rows in the dataset\n",
        "for _, row in dataset.iterrows():\n",
        "    target = row['Best price']\n",
        "    print(type(row.Weights))\n",
        "    break\n",
        "    "
      ]
    },
    {
      "cell_type": "code",
      "execution_count": 90,
      "metadata": {
        "id": "FqN5dVe7haO0"
      },
      "outputs": [],
      "source": [
        "\n",
        "# recursive way to solve the {0 .. 1} knapsack problem\n",
        "# this function takes the weight, the values, and the weights of the items\n",
        "# it evaluates two scenarios, one where it takes the last item, and one where it doesn't\n",
        "# then, it returns the maximum value of the two scenarios, with the two items selected\n",
        "def knapsack_solver(weight, values, weights):\n",
        "  \n",
        "  # base case. If there is no values left, or the weight is 0, then we return 0\n",
        "  if (weight == 0 or len(values) == 0):\n",
        "    return 0, []\n",
        "  \n",
        "  do_not_take_last, do_not_take_last_result = knapsack_solver(weight, values[:-1], weights[:-1])\n",
        "  take_last, take_last_result = knapsack_solver(weight - weights[-1], values[:-1], weights[:-1])\n",
        "\n",
        "  if (take_last > do_not_take_last):\n",
        "    return take_last + values[-1], take_last_result + [1]\n",
        "  \n",
        "  return do_not_take_last, do_not_take_last_result + [0]\n",
        "  \n",
        "\n",
        "def gen_and_test(data): #takes one row, and must compute the best solution for that row\n",
        "  # implement knapsack solution\n",
        "  \n",
        "\n",
        "  best_solution_price, best_solution = knapsack_solver(data['Capacity'], data['Prices'], data['Weights'])\n",
        "\n",
        "  return best_solution_price, best_solution\n",
        "\n"
      ]
    },
    {
      "cell_type": "code",
      "execution_count": 91,
      "metadata": {
        "id": "xQyI_WRShaO0"
      },
      "outputs": [
        {
          "name": "stdout",
          "output_type": "stream",
          "text": [
            "0 [0, 0, 0, 0, 0] 19.0\n"
          ]
        }
      ],
      "source": [
        "solutions = []\n",
        "for _, row in dataset.iterrows():\n",
        "    target = row['Best price']\n",
        "    solution, indexes = gen_and_test(row)\n",
        "    print(solution, indexes, target)\n",
        "    solutions.append(1 if target == solution else 0)\n",
        "    break\n"
      ]
    },
    {
      "cell_type": "code",
      "execution_count": 92,
      "metadata": {
        "id": "yodeAYV3haO0"
      },
      "outputs": [
        {
          "name": "stdout",
          "output_type": "stream",
          "text": [
            "Accuracy of best prices found is 0.0\n"
          ]
        }
      ],
      "source": [
        "# Accuracy\n",
        "print('Accuracy of best prices found is', np.mean(solutions))"
      ]
    },
    {
      "cell_type": "markdown",
      "metadata": {
        "id": "sgYGIJMd-atd"
      },
      "source": [
        "**Your Analysis:**"
      ]
    },
    {
      "cell_type": "markdown",
      "metadata": {
        "id": "5rQYdUQx-dGi"
      },
      "source": [
        "------------------------------------------------------------------------------------------------"
      ]
    },
    {
      "cell_type": "markdown",
      "metadata": {
        "id": "z8_ipXOGhaO1"
      },
      "source": [
        "**5. Greedy Search**\n",
        "\n",
        "Give a description... Also, make sure that you put comments using your own words in the code to show that you understand the code that you are submitting."
      ]
    },
    {
      "cell_type": "code",
      "execution_count": 93,
      "metadata": {
        "id": "bAfwGLDkhaO2"
      },
      "outputs": [],
      "source": [
        "def greedy(data):\n",
        "\n",
        "  return best_solution_price, best_solution\n"
      ]
    },
    {
      "cell_type": "code",
      "execution_count": 94,
      "metadata": {
        "id": "QeS54aqAhwhU"
      },
      "outputs": [
        {
          "ename": "NameError",
          "evalue": "name 'best_solution_price' is not defined",
          "output_type": "error",
          "traceback": [
            "\u001b[1;31m---------------------------------------------------------------------------\u001b[0m",
            "\u001b[1;31mNameError\u001b[0m                                 Traceback (most recent call last)",
            "\u001b[1;32mc:\\Users\\Zach\\dev\\AI-Assignment1\\CSI4106_A1_Group100.ipynb Cell 28\u001b[0m line \u001b[0;36m4\n\u001b[0;32m      <a href='vscode-notebook-cell:/c%3A/Users/Zach/dev/AI-Assignment1/CSI4106_A1_Group100.ipynb#Y401sZmlsZQ%3D%3D?line=1'>2</a>\u001b[0m \u001b[39mfor\u001b[39;00m _, row \u001b[39min\u001b[39;00m dataset\u001b[39m.\u001b[39miterrows():\n\u001b[0;32m      <a href='vscode-notebook-cell:/c%3A/Users/Zach/dev/AI-Assignment1/CSI4106_A1_Group100.ipynb#Y401sZmlsZQ%3D%3D?line=2'>3</a>\u001b[0m     target \u001b[39m=\u001b[39m row[\u001b[39m'\u001b[39m\u001b[39mBest price\u001b[39m\u001b[39m'\u001b[39m]\n\u001b[1;32m----> <a href='vscode-notebook-cell:/c%3A/Users/Zach/dev/AI-Assignment1/CSI4106_A1_Group100.ipynb#Y401sZmlsZQ%3D%3D?line=3'>4</a>\u001b[0m     solution, indexes \u001b[39m=\u001b[39m greedy(row)\n\u001b[0;32m      <a href='vscode-notebook-cell:/c%3A/Users/Zach/dev/AI-Assignment1/CSI4106_A1_Group100.ipynb#Y401sZmlsZQ%3D%3D?line=4'>5</a>\u001b[0m     solutions_greedy\u001b[39m.\u001b[39mappend(\u001b[39m1\u001b[39m \u001b[39mif\u001b[39;00m target \u001b[39m==\u001b[39m solution \u001b[39melse\u001b[39;00m \u001b[39m0\u001b[39m)\n",
            "\u001b[1;32mc:\\Users\\Zach\\dev\\AI-Assignment1\\CSI4106_A1_Group100.ipynb Cell 28\u001b[0m line \u001b[0;36m3\n\u001b[0;32m      <a href='vscode-notebook-cell:/c%3A/Users/Zach/dev/AI-Assignment1/CSI4106_A1_Group100.ipynb#Y401sZmlsZQ%3D%3D?line=0'>1</a>\u001b[0m \u001b[39mdef\u001b[39;00m \u001b[39mgreedy\u001b[39m(data):\n\u001b[1;32m----> <a href='vscode-notebook-cell:/c%3A/Users/Zach/dev/AI-Assignment1/CSI4106_A1_Group100.ipynb#Y401sZmlsZQ%3D%3D?line=2'>3</a>\u001b[0m   \u001b[39mreturn\u001b[39;00m best_solution_price, best_solution\n",
            "\u001b[1;31mNameError\u001b[0m: name 'best_solution_price' is not defined"
          ]
        }
      ],
      "source": [
        "solutions_greedy = []\n",
        "for _, row in dataset.iterrows():\n",
        "    target = row['Best price']\n",
        "    solution, indexes = greedy(row)\n",
        "    solutions_greedy.append(1 if target == solution else 0)\n"
      ]
    },
    {
      "cell_type": "code",
      "execution_count": null,
      "metadata": {
        "id": "xWqCDMs-h0SX"
      },
      "outputs": [],
      "source": [
        "print(\"Greedy Accuracy is\", np.mean(solutions_greedy))"
      ]
    },
    {
      "cell_type": "markdown",
      "metadata": {
        "id": "0DKep6e5-nuz"
      },
      "source": [
        "**Your Analysis:**"
      ]
    },
    {
      "cell_type": "markdown",
      "metadata": {
        "id": "XGBWQqlK-lra"
      },
      "source": [
        "------------------------------------------------------------------------------------------------"
      ]
    },
    {
      "cell_type": "markdown",
      "metadata": {
        "id": "PtDW2ja3R93S"
      },
      "source": [
        "**6. Simulated Annealing**\n",
        "\n",
        "Give a description... Also, make sure that you put comments using your own words in the code to show that you understand the code that you are submitting.\n"
      ]
    },
    {
      "cell_type": "code",
      "execution_count": 429,
      "metadata": {
        "id": "7rFhuXedSF_3"
      },
      "outputs": [
        {
          "name": "stdout",
          "output_type": "stream",
          "text": [
            "15 [0, 0, 0, 1, 0]\n"
          ]
        }
      ],
      "source": [
        "import random\n",
        "import math\n",
        "\n",
        "\n",
        "def sum_of_product(arr1, arr2):\n",
        "  return (np.array(arr1) * arr2).sum()\n",
        "\n",
        "\n",
        "def cost(x, data):\n",
        "  return data['Capacity'] - sum_of_product(data['Prices'], x)\n",
        "\n",
        "# Accept the candidate solution if it has a higher energy (value) and\n",
        "# a weight that is smaller than the capacity\n",
        "def accept(candidate_picks, delta_e, t, data):\n",
        "  total_weight = sum_of_product(data['Weights'], candidate_picks)\n",
        "  if total_weight > data['Capacity']:\n",
        "    return False\n",
        "  else:\n",
        "    try:\n",
        "      prob = 1 / (1 + math.exp(delta_e/t))\n",
        "      r = random.random()\n",
        "      return r < prob\n",
        "    except OverflowError:\n",
        "      return False\n",
        "    \n",
        "\n",
        "\n",
        "def generate_candidate():\n",
        "  return [round(random.random()) for _ in range(5)]\n",
        "\n",
        "\n",
        "def flip_random(x):\n",
        "  new_x = x.copy()\n",
        "  r_i = round(random.uniform(0, len(new_x) - 1))\n",
        "  new_x[r_i] = int(not new_x[r_i])\n",
        "  return new_x\n",
        "\n",
        "\n",
        "def simulated_annealing(data, N, initial_temperature, cooling_rate):\n",
        "  t = initial_temperature\n",
        "  x = [0,0,0,0,0]\n",
        "  e = cost(x, data)\n",
        "  it = 0\n",
        "\n",
        "  while it < N:\n",
        "    candidate = flip_random(x)\n",
        "    candidate_e = cost(candidate, data)\n",
        "    delta_e = candidate_e - e\n",
        "    if accept(candidate, delta_e, t, data):\n",
        "      x = candidate\n",
        "      e = candidate_e\n",
        "    it += 1\n",
        "    t *= cooling_rate\n",
        "  \n",
        "  return sum_of_product(data['Prices'], x), x\n",
        "\n",
        "test_row = {\n",
        "  \"Weights\": [46, 40, 42, 38, 10],\n",
        "  \"Prices\": [12, 19, 19, 15,  8],\n",
        "  \"Capacity\": 40,\n",
        "  \"Best picks\": [0., 1., 0., 0., 0.],\n",
        "  \"Best price\": 19.0\n",
        "}\n",
        "\n",
        "solution, indexes = simulated_annealing(test_row, N = 1000, initial_temperature=1, cooling_rate=0.95)\n",
        "print(solution, indexes)"
      ]
    },
    {
      "cell_type": "code",
      "execution_count": 412,
      "metadata": {
        "id": "mAWQLNsESNIZ"
      },
      "outputs": [
        {
          "ename": "KeyboardInterrupt",
          "evalue": "",
          "output_type": "error",
          "traceback": [
            "\u001b[1;31m---------------------------------------------------------------------------\u001b[0m",
            "\u001b[1;31mKeyboardInterrupt\u001b[0m                         Traceback (most recent call last)",
            "\u001b[1;32mc:\\Users\\Zach\\dev\\AI-Assignment1\\CSI4106_A1_Group100.ipynb Cell 34\u001b[0m line \u001b[0;36m4\n\u001b[0;32m      <a href='vscode-notebook-cell:/c%3A/Users/Zach/dev/AI-Assignment1/CSI4106_A1_Group100.ipynb#Y410sZmlsZQ%3D%3D?line=1'>2</a>\u001b[0m \u001b[39mfor\u001b[39;00m _, row \u001b[39min\u001b[39;00m dataset\u001b[39m.\u001b[39miterrows():\n\u001b[0;32m      <a href='vscode-notebook-cell:/c%3A/Users/Zach/dev/AI-Assignment1/CSI4106_A1_Group100.ipynb#Y410sZmlsZQ%3D%3D?line=2'>3</a>\u001b[0m     target \u001b[39m=\u001b[39m row[\u001b[39m'\u001b[39m\u001b[39mBest price\u001b[39m\u001b[39m'\u001b[39m]\n\u001b[1;32m----> <a href='vscode-notebook-cell:/c%3A/Users/Zach/dev/AI-Assignment1/CSI4106_A1_Group100.ipynb#Y410sZmlsZQ%3D%3D?line=3'>4</a>\u001b[0m     solution, indexes \u001b[39m=\u001b[39m simulated_annealing(row, N \u001b[39m=\u001b[39;49m \u001b[39m1000\u001b[39;49m, initial_temperature\u001b[39m=\u001b[39;49m\u001b[39m1\u001b[39;49m, cooling_rate\u001b[39m=\u001b[39;49m\u001b[39m0.95\u001b[39;49m)\n\u001b[0;32m      <a href='vscode-notebook-cell:/c%3A/Users/Zach/dev/AI-Assignment1/CSI4106_A1_Group100.ipynb#Y410sZmlsZQ%3D%3D?line=4'>5</a>\u001b[0m     solutions_sa\u001b[39m.\u001b[39mappend(\u001b[39m1\u001b[39m \u001b[39mif\u001b[39;00m target \u001b[39m==\u001b[39m solution \u001b[39melse\u001b[39;00m \u001b[39m0\u001b[39m)\n",
            "\u001b[1;32mc:\\Users\\Zach\\dev\\AI-Assignment1\\CSI4106_A1_Group100.ipynb Cell 34\u001b[0m line \u001b[0;36m4\n\u001b[0;32m     <a href='vscode-notebook-cell:/c%3A/Users/Zach/dev/AI-Assignment1/CSI4106_A1_Group100.ipynb#Y410sZmlsZQ%3D%3D?line=44'>45</a>\u001b[0m \u001b[39mwhile\u001b[39;00m it \u001b[39m<\u001b[39m N:\n\u001b[0;32m     <a href='vscode-notebook-cell:/c%3A/Users/Zach/dev/AI-Assignment1/CSI4106_A1_Group100.ipynb#Y410sZmlsZQ%3D%3D?line=45'>46</a>\u001b[0m   candidate \u001b[39m=\u001b[39m flip_random(x)\n\u001b[1;32m---> <a href='vscode-notebook-cell:/c%3A/Users/Zach/dev/AI-Assignment1/CSI4106_A1_Group100.ipynb#Y410sZmlsZQ%3D%3D?line=46'>47</a>\u001b[0m   candidate_e \u001b[39m=\u001b[39m cost(candidate, data)\n\u001b[0;32m     <a href='vscode-notebook-cell:/c%3A/Users/Zach/dev/AI-Assignment1/CSI4106_A1_Group100.ipynb#Y410sZmlsZQ%3D%3D?line=47'>48</a>\u001b[0m   delta_e \u001b[39m=\u001b[39m candidate_e \u001b[39m-\u001b[39m e\n\u001b[0;32m     <a href='vscode-notebook-cell:/c%3A/Users/Zach/dev/AI-Assignment1/CSI4106_A1_Group100.ipynb#Y410sZmlsZQ%3D%3D?line=48'>49</a>\u001b[0m   \u001b[39mif\u001b[39;00m accept(candidate, delta_e, t, data):\n",
            "\u001b[1;32mc:\\Users\\Zach\\dev\\AI-Assignment1\\CSI4106_A1_Group100.ipynb Cell 34\u001b[0m line \u001b[0;36m1\n\u001b[0;32m      <a href='vscode-notebook-cell:/c%3A/Users/Zach/dev/AI-Assignment1/CSI4106_A1_Group100.ipynb#Y410sZmlsZQ%3D%3D?line=8'>9</a>\u001b[0m \u001b[39mdef\u001b[39;00m \u001b[39mcost\u001b[39m(x, data):\n\u001b[1;32m---> <a href='vscode-notebook-cell:/c%3A/Users/Zach/dev/AI-Assignment1/CSI4106_A1_Group100.ipynb#Y410sZmlsZQ%3D%3D?line=9'>10</a>\u001b[0m   \u001b[39mreturn\u001b[39;00m data[\u001b[39m'\u001b[39m\u001b[39mCapacity\u001b[39m\u001b[39m'\u001b[39m] \u001b[39m-\u001b[39m sum_of_product(data[\u001b[39m'\u001b[39;49m\u001b[39mPrices\u001b[39;49m\u001b[39m'\u001b[39;49m], x)\n",
            "\u001b[1;32mc:\\Users\\Zach\\dev\\AI-Assignment1\\CSI4106_A1_Group100.ipynb Cell 34\u001b[0m line \u001b[0;36m6\n\u001b[0;32m      <a href='vscode-notebook-cell:/c%3A/Users/Zach/dev/AI-Assignment1/CSI4106_A1_Group100.ipynb#Y410sZmlsZQ%3D%3D?line=4'>5</a>\u001b[0m \u001b[39mdef\u001b[39;00m \u001b[39msum_of_product\u001b[39m(arr1, arr2):\n\u001b[1;32m----> <a href='vscode-notebook-cell:/c%3A/Users/Zach/dev/AI-Assignment1/CSI4106_A1_Group100.ipynb#Y410sZmlsZQ%3D%3D?line=5'>6</a>\u001b[0m   \u001b[39mreturn\u001b[39;00m (np\u001b[39m.\u001b[39;49marray(arr1) \u001b[39m*\u001b[39;49m arr2)\u001b[39m.\u001b[39;49msum()\n",
            "File \u001b[1;32mc:\\Users\\Zach\\anaconda3\\envs\\py3.11\\Lib\\site-packages\\numpy\\core\\_methods.py:47\u001b[0m, in \u001b[0;36m_sum\u001b[1;34m(a, axis, dtype, out, keepdims, initial, where)\u001b[0m\n\u001b[0;32m     43\u001b[0m \u001b[39mdef\u001b[39;00m \u001b[39m_amin\u001b[39m(a, axis\u001b[39m=\u001b[39m\u001b[39mNone\u001b[39;00m, out\u001b[39m=\u001b[39m\u001b[39mNone\u001b[39;00m, keepdims\u001b[39m=\u001b[39m\u001b[39mFalse\u001b[39;00m,\n\u001b[0;32m     44\u001b[0m           initial\u001b[39m=\u001b[39m_NoValue, where\u001b[39m=\u001b[39m\u001b[39mTrue\u001b[39;00m):\n\u001b[0;32m     45\u001b[0m     \u001b[39mreturn\u001b[39;00m umr_minimum(a, axis, \u001b[39mNone\u001b[39;00m, out, keepdims, initial, where)\n\u001b[1;32m---> 47\u001b[0m \u001b[39mdef\u001b[39;00m \u001b[39m_sum\u001b[39m(a, axis\u001b[39m=\u001b[39m\u001b[39mNone\u001b[39;00m, dtype\u001b[39m=\u001b[39m\u001b[39mNone\u001b[39;00m, out\u001b[39m=\u001b[39m\u001b[39mNone\u001b[39;00m, keepdims\u001b[39m=\u001b[39m\u001b[39mFalse\u001b[39;00m,\n\u001b[0;32m     48\u001b[0m          initial\u001b[39m=\u001b[39m_NoValue, where\u001b[39m=\u001b[39m\u001b[39mTrue\u001b[39;00m):\n\u001b[0;32m     49\u001b[0m     \u001b[39mreturn\u001b[39;00m umr_sum(a, axis, dtype, out, keepdims, initial, where)\n\u001b[0;32m     51\u001b[0m \u001b[39mdef\u001b[39;00m \u001b[39m_prod\u001b[39m(a, axis\u001b[39m=\u001b[39m\u001b[39mNone\u001b[39;00m, dtype\u001b[39m=\u001b[39m\u001b[39mNone\u001b[39;00m, out\u001b[39m=\u001b[39m\u001b[39mNone\u001b[39;00m, keepdims\u001b[39m=\u001b[39m\u001b[39mFalse\u001b[39;00m,\n\u001b[0;32m     52\u001b[0m           initial\u001b[39m=\u001b[39m_NoValue, where\u001b[39m=\u001b[39m\u001b[39mTrue\u001b[39;00m):\n",
            "\u001b[1;31mKeyboardInterrupt\u001b[0m: "
          ]
        }
      ],
      "source": [
        "solutions_sa = []\n",
        "for _, row in dataset.iterrows():\n",
        "    target = row['Best price']\n",
        "    solution, indexes = simulated_annealing(row, N = 1000, initial_temperature=1, cooling_rate=0.95)\n",
        "    solutions_sa.append(1 if target == solution else 0)\n"
      ]
    },
    {
      "cell_type": "code",
      "execution_count": 411,
      "metadata": {
        "id": "jUdWEABkhkih"
      },
      "outputs": [
        {
          "name": "stdout",
          "output_type": "stream",
          "text": [
            "Simulated Annealing Accuracy is 0.49104160340115394\n"
          ]
        }
      ],
      "source": [
        "print(\"Simulated Annealing Accuracy is\", np.mean(solutions_sa))"
      ]
    },
    {
      "cell_type": "markdown",
      "metadata": {
        "id": "PvvpYOOr-qqr"
      },
      "source": [
        "**Your Analysis:**"
      ]
    },
    {
      "cell_type": "markdown",
      "metadata": {
        "id": "n0QXt7Ys-rCc"
      },
      "source": [
        "------------------------------------------------------------------------------------------------"
      ]
    },
    {
      "cell_type": "markdown",
      "metadata": {
        "id": "RHYjBUvVhtGV"
      },
      "source": [
        "**7. Genetic Algorithm**\n",
        "\n",
        "Give a description... Also, make sure that you put comments using your own words in the code to show that you understand the code that you are submitting."
      ]
    },
    {
      "cell_type": "code",
      "execution_count": null,
      "metadata": {
        "id": "5kGKKUN8iP30"
      },
      "outputs": [],
      "source": [
        "import random\n",
        "\n",
        "def calculate_fitness(ind, prices, weights, capacity):\n",
        "\n",
        "\n",
        "  return fitness\n",
        "\n",
        "def crossover(parent1, parent2, cross_rate):\n",
        "\n",
        "\n",
        "  return child1, child2\n",
        "\n",
        "def mutation(child, mut_rate):\n",
        "\n",
        "\n",
        "  return child\n",
        "\n",
        "def genetic_algorithm(data, population_size, num_generations, mut_rate, cross_rate, tournament_size):\n",
        "\n",
        "\n",
        "  return best_solution_price, best_solution"
      ]
    },
    {
      "cell_type": "markdown",
      "metadata": {},
      "source": [
        "**Your Analysis:**"
      ]
    },
    {
      "cell_type": "markdown",
      "metadata": {},
      "source": [
        "------------------------------------------------------------------------------------------------"
      ]
    },
    {
      "cell_type": "markdown",
      "metadata": {},
      "source": [
        "**8. Comparative Study**\n",
        "\n",
        "description  +  tables/figures"
      ]
    },
    {
      "cell_type": "markdown",
      "metadata": {},
      "source": [
        "--------------------------------------------------------------------------\n"
      ]
    },
    {
      "cell_type": "markdown",
      "metadata": {},
      "source": [
        "**9. Conclusion**\n",
        "\n",
        "Comment on the empirical study, its results, and give ideas for future work."
      ]
    },
    {
      "cell_type": "markdown",
      "metadata": {},
      "source": [
        "--------------------------------------------------------------------------\n"
      ]
    },
    {
      "cell_type": "markdown",
      "metadata": {},
      "source": [
        "**10 References**\n",
        "\n",
        "Make sure you provide references to ALL sources used (articles, code, algorithms)."
      ]
    },
    {
      "cell_type": "markdown",
      "metadata": {},
      "source": [
        "**Hint:** To share a link to your colab notebook, click on \"share\" on the top right. Then, under *General access* , change *Restricted* to \"Anyone with the link\"."
      ]
    }
  ],
  "metadata": {
    "colab": {
      "provenance": []
    },
    "kernelspec": {
      "display_name": "Python 3 (ipykernel)",
      "language": "python",
      "name": "python3"
    },
    "language_info": {
      "codemirror_mode": {
        "name": "ipython",
        "version": 3
      },
      "file_extension": ".py",
      "mimetype": "text/x-python",
      "name": "python",
      "nbconvert_exporter": "python",
      "pygments_lexer": "ipython3",
      "version": "3.11.5"
    },
    "orig_nbformat": 4
  },
  "nbformat": 4,
  "nbformat_minor": 0
}
